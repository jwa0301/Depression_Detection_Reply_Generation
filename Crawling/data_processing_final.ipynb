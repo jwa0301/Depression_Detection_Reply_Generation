{
  "cells": [
    {
      "cell_type": "code",
      "execution_count": null,
      "id": "727a07d3",
      "metadata": {
        "id": "727a07d3"
      },
      "outputs": [],
      "source": [
        "import numpy as np\n",
        "import pandas as pd\n",
        "import matplotlib as mpl\n",
        "import matplotlib.pyplot as plt\n",
        "import seaborn as sns\n",
        "from tqdm.auto import tqdm\n",
        "import re\n",
        "from tqdm import tqdm\n",
        "from hanspell import spell_checker"
      ]
    },
    {
      "cell_type": "markdown",
      "id": "908f5460",
      "metadata": {
        "id": "908f5460"
      },
      "source": [
        "# 네이버 지식인 데이터 전처리"
      ]
    },
    {
      "cell_type": "markdown",
      "id": "60f47d0e",
      "metadata": {
        "id": "60f47d0e"
      },
      "source": [
        "### 1. 강아지 우울증 내용 삭제(수작업)"
      ]
    },
    {
      "cell_type": "code",
      "execution_count": null,
      "id": "8bfef76c",
      "metadata": {
        "id": "8bfef76c"
      },
      "outputs": [],
      "source": [
        "kin[kin['title'].str.contains('강아지')]\n",
        "kin = kin.drop([35,36,37,38,39])"
      ]
    },
    {
      "cell_type": "markdown",
      "id": "f7bf359b",
      "metadata": {
        "id": "f7bf359b"
      },
      "source": [
        "### 2. 의사 답변만 남기기"
      ]
    },
    {
      "cell_type": "code",
      "execution_count": null,
      "id": "38caac72",
      "metadata": {
        "id": "38caac72"
      },
      "outputs": [],
      "source": [
        "keyword = ['상담','임상','의사']\n",
        "filtered_kin = kin[kin['answer'].str.contains('|'.join(keyword))]\n",
        "filtered_kin.reset_index(drop=True, inplace=True)\n",
        "filtered_kin"
      ]
    },
    {
      "cell_type": "code",
      "execution_count": null,
      "id": "5014a308",
      "metadata": {
        "id": "5014a308"
      },
      "outputs": [],
      "source": [
        "filtered_kin.to_csv('naver_kin_filtered.csv',index=False)\n",
        "filtered_kin.to_excel('naver_kin_filtered.xlsx',index=False)"
      ]
    },
    {
      "cell_type": "markdown",
      "id": "32028018",
      "metadata": {
        "id": "32028018"
      },
      "source": [
        "### 3. openai api이용해서 answer에서 필요한 답변만 추출"
      ]
    },
    {
      "cell_type": "code",
      "execution_count": null,
      "id": "4648ecff",
      "metadata": {
        "id": "4648ecff"
      },
      "outputs": [],
      "source": [
        "# !pip install openai"
      ]
    },
    {
      "cell_type": "code",
      "execution_count": null,
      "id": "dc2f0ff4",
      "metadata": {
        "id": "dc2f0ff4"
      },
      "outputs": [],
      "source": [
        "filtered_kin = pd.read_csv('naver_kin_filtered.csv')"
      ]
    },
    {
      "cell_type": "code",
      "execution_count": null,
      "id": "e2b34882",
      "metadata": {
        "id": "e2b34882"
      },
      "outputs": [],
      "source": [
        "import openai\n",
        "\n",
        "# OpenAI API 키 설정 (자신의 API 키로 대체해야 함)\n",
        "api_key = ''\n",
        "openai.api_key = api_key\n",
        "\n",
        "# GPT-3 API 호출 함수\n",
        "def generate_text(text):\n",
        "    response = openai.chat.completions.create(\n",
        "        model=\"gpt-3.5-turbo\",\n",
        "        messages= [\n",
        "            {\"role\": \"system\", \"content\": \"입력받은 문장은, 전문의들이 우울증이 있는 사람들에게 답변한 문장들이다.\"},\n",
        "            {\"role\": \"system\", \"content\": \"우울증에 대한 해결책이 포함된 부분만 요약해서 문장으로 제시해라\"},\n",
        "            {\"role\": \"system\", \"content\": \"한국어로 답변해라\"},\n",
        "            {\"role\": \"system\", \"content\": \"입력받은 문장의 문체를 최대한 유지한 채로 문장을 제시해라.\"},\n",
        "            {\"role\": \"system\", \"content\": \"단순히 해결책에 대해 나열하지 말고, 연속된 문장들로 답변해라.\"},\n",
        "            {\"role\": \"user\", \"content\" : text}\n",
        "        ],\n",
        "        temperature=0.5\n",
        "    )\n",
        "    return response.choices[0].message.content"
      ]
    },
    {
      "cell_type": "code",
      "execution_count": null,
      "id": "2ad2f100",
      "metadata": {
        "id": "2ad2f100"
      },
      "outputs": [],
      "source": [
        "### 한번에 많은 요청을 보내면 오류남\n",
        "#api 토큰 제한이 4000자라서 4000자로 제한\n",
        "max_length = 3000\n",
        "filtered_kin['answer_cut'] = filtered_kin['answer'].apply(lambda x: x[:max_length])\n",
        "filtered_kin['processed_answer'] = filtered_kin['answer_cut'].apply(generate_text)\n",
        "filtered_kin.to_csv('naver_kin_filtered_processed.csv', index=False)\n",
        "filtered_kin"
      ]
    },
    {
      "cell_type": "code",
      "execution_count": null,
      "id": "8a2ab685",
      "metadata": {
        "id": "8a2ab685"
      },
      "outputs": [],
      "source": [
        "### 위 코드 에러 발생 시 실행\n",
        "# 데이터프레임을 100개씩 묶어서 처리\n",
        "max_length = 3000\n",
        "batch_size = 300\n",
        "num_batches = len(filtered_kin) // batch_size + 1\n",
        "\n",
        "for batch_num in range(num_batches):\n",
        "    start_idx = batch_num * batch_size\n",
        "    end_idx = (batch_num + 1) * batch_size\n",
        "    batch_data = filtered_kin.iloc[start_idx:end_idx]\n",
        "\n",
        "    # 최대 길이로 자르고 텍스트 처리\n",
        "    batch_data['answer_cut'] = batch_data['answer'].apply(lambda x: x[:max_length])\n",
        "    batch_data['processed_answer'] = batch_data['answer_cut'].apply(generate_text)\n",
        "\n",
        "    # 중간 결과 출력\n",
        "    print(f\"Batch {batch_num + 1}/{num_batches} processed.\")\n",
        "\n",
        "    # 중간 결과 저장\n",
        "    intermediate_output_path = f'intermediate_output_batch_{batch_num + 1}.csv'\n",
        "    batch_data.to_csv(intermediate_output_path, index=False)\n",
        "\n",
        "# 최종 결과 출력\n",
        "print(\"Processing completed.\")\n",
        "\n",
        "batch1 = pd.read_csv('intermediate_output_batch_1.csv')\n",
        "batch2 = pd.read_csv('intermediate_output_batch_2.csv')\n",
        "batch3 = pd.read_csv('intermediate_output_batch_3.csv')\n",
        "batch4 = pd.read_csv('intermediate_output_batch_4.csv')\n",
        "\n",
        "# 데이터프레임 합치기\n",
        "combined_df = pd.concat([batch1, batch2, batch3, batch4], ignore_index=True)\n",
        "combined_df.to_csv('naver_kin_filtered_processed.csv', index=False)\n",
        "combined_df.to_excel('naver_kin_filtered_processed.xlsx', index=False)"
      ]
    },
    {
      "cell_type": "markdown",
      "id": "d11727cb",
      "metadata": {
        "id": "d11727cb"
      },
      "source": [
        "### 4. 질문, 답변에 대한 전처리\n",
        "- 데이터 증강전"
      ]
    },
    {
      "cell_type": "code",
      "execution_count": null,
      "id": "fad66e79",
      "metadata": {
        "id": "fad66e79",
        "outputId": "2f971bdf-72f4-4290-c45e-cc0a329dbcaa"
      },
      "outputs": [
        {
          "data": {
            "text/html": [
              "<div>\n",
              "<style scoped>\n",
              "    .dataframe tbody tr th:only-of-type {\n",
              "        vertical-align: middle;\n",
              "    }\n",
              "\n",
              "    .dataframe tbody tr th {\n",
              "        vertical-align: top;\n",
              "    }\n",
              "\n",
              "    .dataframe thead th {\n",
              "        text-align: right;\n",
              "    }\n",
              "</style>\n",
              "<table border=\"1\" class=\"dataframe\">\n",
              "  <thead>\n",
              "    <tr style=\"text-align: right;\">\n",
              "      <th></th>\n",
              "      <th>title</th>\n",
              "      <th>question</th>\n",
              "      <th>answer</th>\n",
              "      <th>url</th>\n",
              "      <th>answer_cut</th>\n",
              "      <th>processed_answer</th>\n",
              "    </tr>\n",
              "  </thead>\n",
              "  <tbody>\n",
              "    <tr>\n",
              "      <th>0</th>\n",
              "      <td>우울증 테스트</td>\n",
              "      <td>안녕하세요. 저는 예비 중1입니다. 일단 우울증인 것 같기는 한데 아직 잘 모르겠어...</td>\n",
              "      <td>안녕하세요. 대한한의사협회-네이버 지식iN 상담한의사 전창환 입니다.​간이로 하는...</td>\n",
              "      <td>https://kin.naver.com/qna/detail.naver?d1id=7&amp;...</td>\n",
              "      <td>안녕하세요. 대한한의사협회-네이버 지식iN 상담한의사 전창환 입니다.​간이로 하는...</td>\n",
              "      <td>우울증 테스트는 신뢰할만하지 않습니다. 중요한 것은 본인의 현재 우울한 상태입니다....</td>\n",
              "    </tr>\n",
              "    <tr>\n",
              "      <th>1</th>\n",
              "      <td>우울증 극복 (청주 우울증)</td>\n",
              "      <td>청주 30대 후반/여 우울증우울증 극복 어떻하죠 남들하고 비교하다보니 자존감이 너무...</td>\n",
              "      <td>안녕하세요, 닥톡-네이버 지식iN 상담한의사 변형남입니다.말씀주신 여러가지 불편한 ...</td>\n",
              "      <td>https://kin.naver.com/qna/detail.naver?d1id=7&amp;...</td>\n",
              "      <td>안녕하세요, 닥톡-네이버 지식iN 상담한의사 변형남입니다.말씀주신 여러가지 불편한 ...</td>\n",
              "      <td>우울증 극복 방법은 다양하게 있지만, 우선적으로 우울에 대한 감정과 우울증에 대한 ...</td>\n",
              "    </tr>\n",
              "    <tr>\n",
              "      <th>2</th>\n",
              "      <td>아이가 우울증 같아요. (잠실 우울증)</td>\n",
              "      <td>잠실 10대 초반/여 우울증아이가 10살인데 우울증 증상을 보입니다.처음에는 의심되...</td>\n",
              "      <td>안녕하세요, 닥톡-네이버 지식iN 상담한의사 이유진입니다.자녀분의 증상으로 걱정이 ...</td>\n",
              "      <td>https://kin.naver.com/qna/detail.naver?d1id=7&amp;...</td>\n",
              "      <td>안녕하세요, 닥톡-네이버 지식iN 상담한의사 이유진입니다.자녀분의 증상으로 걱정이 ...</td>\n",
              "      <td>우울증을 겪는 아이들을 치료하기 위해서는 안전하고 효과적인 방법을 사용해야 합니다....</td>\n",
              "    </tr>\n",
              "    <tr>\n",
              "      <th>3</th>\n",
              "      <td>청소년 우울증 상담 받을까요?()</td>\n",
              "      <td>40대 중반/여청소년 우울증 상담 질문드리고 싶어요... 아이가 지금 청소년 우울증...</td>\n",
              "      <td>안녕하세요, 닥톡-네이버 지식iN 상담한의사 김현우입니다.청소년 우울증 상담과 사프...</td>\n",
              "      <td>https://kin.naver.com/qna/detail.naver?d1id=7&amp;...</td>\n",
              "      <td>안녕하세요, 닥톡-네이버 지식iN 상담한의사 김현우입니다.청소년 우울증 상담과 사프...</td>\n",
              "      <td>청소년 우울증에 대한 해결책으로는 다음과 같은 접근 방법을 권장드립니다. 첫째로, ...</td>\n",
              "    </tr>\n",
              "    <tr>\n",
              "      <th>4</th>\n",
              "      <td>초6 이거 우울증인가요..</td>\n",
              "      <td>초딩 졸업을 앞두고 있는 학생인데요가정사도 안 좋아지고 정말 사랑하는 남친이랑 싸우...</td>\n",
              "      <td>안녕하세요.언급한 내용으로 보아 우울증에 의한 것일 수도 있고 급작스런 스트레스 ...</td>\n",
              "      <td>https://kin.naver.com/qna/detail.naver?d1id=7&amp;...</td>\n",
              "      <td>안녕하세요.언급한 내용으로 보아 우울증에 의한 것일 수도 있고 급작스런 스트레스 ...</td>\n",
              "      <td>안녕하세요. 우선, 언급한 내용으로 보아 우울증에 의한 것일 수도 있고 급작스런 스...</td>\n",
              "    </tr>\n",
              "    <tr>\n",
              "      <th>...</th>\n",
              "      <td>...</td>\n",
              "      <td>...</td>\n",
              "      <td>...</td>\n",
              "      <td>...</td>\n",
              "      <td>...</td>\n",
              "      <td>...</td>\n",
              "    </tr>\n",
              "    <tr>\n",
              "      <th>900</th>\n",
              "      <td>우울증이려나요?</td>\n",
              "      <td>현재 중3 여학생입니다 요즘 울음을 많이 터트리는데 어제도 자신있던 과목에서 실수하...</td>\n",
              "      <td>​질문내공50우울증이려나요?현재 중3 여학생입니다 요즘 울음을 많이 터트리는데 어...</td>\n",
              "      <td>https://kin.naver.com/qna/detail.naver?d1id=7&amp;...</td>\n",
              "      <td>​질문내공50우울증이려나요?현재 중3 여학생입니다 요즘 울음을 많이 터트리는데 어...</td>\n",
              "      <td>우울증은 감정이 격해지는 것 외에도 다른 부분들은 평소와 같이 행동한다는 점을 강조...</td>\n",
              "    </tr>\n",
              "    <tr>\n",
              "      <th>901</th>\n",
              "      <td>우울증 예방방안</td>\n",
              "      <td>우울증 예방법 좀 알려주세요..그리고 그 예방법이 왜 예방법인지도 …</td>\n",
              "      <td>우울증의 원인을 알고 그 원인 요소가 생활에 발생되지 않게 하면 우울증은 생길 수...</td>\n",
              "      <td>https://kin.naver.com/qna/detail.naver?d1id=7&amp;...</td>\n",
              "      <td>우울증의 원인을 알고 그 원인 요소가 생활에 발생되지 않게 하면 우울증은 생길 수...</td>\n",
              "      <td>우울증의 원인은 생활에서 발생하는 요소들입니다. 이러한 요소들을 제거하면 우울증을 ...</td>\n",
              "    </tr>\n",
              "    <tr>\n",
              "      <th>902</th>\n",
              "      <td>우울증질문</td>\n",
              "      <td>나 자신이 우울증인 것 같다는 생각이 들면우울증인걸까요..?평소에 조울증처럼 기분도...</td>\n",
              "      <td>나 자신이 우울증인 것 같다 라는 생각만으로 우울증이라고 판단을 내릴 순 없어요실...</td>\n",
              "      <td>https://kin.naver.com/qna/detail.naver?d1id=7&amp;...</td>\n",
              "      <td>나 자신이 우울증인 것 같다 라는 생각만으로 우울증이라고 판단을 내릴 순 없어요실...</td>\n",
              "      <td>우선, 자기 자신이 우울증인지 아닌지 판단하는 것은 쉽지 않습니다. 그러므로, 현재...</td>\n",
              "    </tr>\n",
              "    <tr>\n",
              "      <th>903</th>\n",
              "      <td>이거 우울증인가요? ( 내공+30 )</td>\n",
              "      <td>어두워 지고 방에 혼자 있으면자꾸 우울해지곤 합니다 요새는 불안하고 심장이 잘못한 ...</td>\n",
              "      <td>안녕하세요? 정신건강임상심리사1급/임상심리전문가 해말근이쓴입니다.​질문자님 마음의...</td>\n",
              "      <td>https://kin.naver.com/qna/detail.naver?d1id=7&amp;...</td>\n",
              "      <td>안녕하세요? 정신건강임상심리사1급/임상심리전문가 해말근이쓴입니다.​질문자님 마음의...</td>\n",
              "      <td>우선, 안녕하세요. 저는 정신건강임상심리사1급/임상심리전문가 해말근이라고 합니다. ...</td>\n",
              "    </tr>\n",
              "    <tr>\n",
              "      <th>904</th>\n",
              "      <td>우울증 회사에 알려야 하나요?</td>\n",
              "      <td>입사하고 약2년 정도 우울증 약 복용중입니다회사 스트레스/ 개인적인 일 등 여러가지...</td>\n",
              "      <td>우리나라 퇴사의 권리는 본인에게 주어져있으므로 우울증 얘기는 안하셔도 됩니다.본인...</td>\n",
              "      <td>https://kin.naver.com/qna/detail.naver?d1id=7&amp;...</td>\n",
              "      <td>우리나라 퇴사의 권리는 본인에게 주어져있으므로 우울증 얘기는 안하셔도 됩니다.본인...</td>\n",
              "      <td>제가 이해합니다. 퇴사는 개인의 권리이며, 우울증에 대한 얘기를 하지 않아도 된다는...</td>\n",
              "    </tr>\n",
              "  </tbody>\n",
              "</table>\n",
              "<p>905 rows × 6 columns</p>\n",
              "</div>"
            ],
            "text/plain": [
              "                     title                                           question  \\\n",
              "0                  우울증 테스트  안녕하세요. 저는 예비 중1입니다. 일단 우울증인 것 같기는 한데 아직 잘 모르겠어...   \n",
              "1          우울증 극복 (청주 우울증)  청주 30대 후반/여 우울증우울증 극복 어떻하죠 남들하고 비교하다보니 자존감이 너무...   \n",
              "2    아이가 우울증 같아요. (잠실 우울증)  잠실 10대 초반/여 우울증아이가 10살인데 우울증 증상을 보입니다.처음에는 의심되...   \n",
              "3       청소년 우울증 상담 받을까요?()  40대 중반/여청소년 우울증 상담 질문드리고 싶어요... 아이가 지금 청소년 우울증...   \n",
              "4           초6 이거 우울증인가요..  초딩 졸업을 앞두고 있는 학생인데요가정사도 안 좋아지고 정말 사랑하는 남친이랑 싸우...   \n",
              "..                     ...                                                ...   \n",
              "900               우울증이려나요?  현재 중3 여학생입니다 요즘 울음을 많이 터트리는데 어제도 자신있던 과목에서 실수하...   \n",
              "901               우울증 예방방안             우울증 예방법 좀 알려주세요..그리고 그 예방법이 왜 예방법인지도 …   \n",
              "902                  우울증질문  나 자신이 우울증인 것 같다는 생각이 들면우울증인걸까요..?평소에 조울증처럼 기분도...   \n",
              "903   이거 우울증인가요? ( 내공+30 )  어두워 지고 방에 혼자 있으면자꾸 우울해지곤 합니다 요새는 불안하고 심장이 잘못한 ...   \n",
              "904       우울증 회사에 알려야 하나요?  입사하고 약2년 정도 우울증 약 복용중입니다회사 스트레스/ 개인적인 일 등 여러가지...   \n",
              "\n",
              "                                                answer  \\\n",
              "0     안녕하세요. 대한한의사협회-네이버 지식iN 상담한의사 전창환 입니다.​간이로 하는...   \n",
              "1    안녕하세요, 닥톡-네이버 지식iN 상담한의사 변형남입니다.말씀주신 여러가지 불편한 ...   \n",
              "2    안녕하세요, 닥톡-네이버 지식iN 상담한의사 이유진입니다.자녀분의 증상으로 걱정이 ...   \n",
              "3    안녕하세요, 닥톡-네이버 지식iN 상담한의사 김현우입니다.청소년 우울증 상담과 사프...   \n",
              "4     안녕하세요.언급한 내용으로 보아 우울증에 의한 것일 수도 있고 급작스런 스트레스 ...   \n",
              "..                                                 ...   \n",
              "900   ​질문내공50우울증이려나요?현재 중3 여학생입니다 요즘 울음을 많이 터트리는데 어...   \n",
              "901   우울증의 원인을 알고 그 원인 요소가 생활에 발생되지 않게 하면 우울증은 생길 수...   \n",
              "902   나 자신이 우울증인 것 같다 라는 생각만으로 우울증이라고 판단을 내릴 순 없어요실...   \n",
              "903   안녕하세요? 정신건강임상심리사1급/임상심리전문가 해말근이쓴입니다.​질문자님 마음의...   \n",
              "904   우리나라 퇴사의 권리는 본인에게 주어져있으므로 우울증 얘기는 안하셔도 됩니다.본인...   \n",
              "\n",
              "                                                   url  \\\n",
              "0    https://kin.naver.com/qna/detail.naver?d1id=7&...   \n",
              "1    https://kin.naver.com/qna/detail.naver?d1id=7&...   \n",
              "2    https://kin.naver.com/qna/detail.naver?d1id=7&...   \n",
              "3    https://kin.naver.com/qna/detail.naver?d1id=7&...   \n",
              "4    https://kin.naver.com/qna/detail.naver?d1id=7&...   \n",
              "..                                                 ...   \n",
              "900  https://kin.naver.com/qna/detail.naver?d1id=7&...   \n",
              "901  https://kin.naver.com/qna/detail.naver?d1id=7&...   \n",
              "902  https://kin.naver.com/qna/detail.naver?d1id=7&...   \n",
              "903  https://kin.naver.com/qna/detail.naver?d1id=7&...   \n",
              "904  https://kin.naver.com/qna/detail.naver?d1id=7&...   \n",
              "\n",
              "                                            answer_cut  \\\n",
              "0     안녕하세요. 대한한의사협회-네이버 지식iN 상담한의사 전창환 입니다.​간이로 하는...   \n",
              "1    안녕하세요, 닥톡-네이버 지식iN 상담한의사 변형남입니다.말씀주신 여러가지 불편한 ...   \n",
              "2    안녕하세요, 닥톡-네이버 지식iN 상담한의사 이유진입니다.자녀분의 증상으로 걱정이 ...   \n",
              "3    안녕하세요, 닥톡-네이버 지식iN 상담한의사 김현우입니다.청소년 우울증 상담과 사프...   \n",
              "4     안녕하세요.언급한 내용으로 보아 우울증에 의한 것일 수도 있고 급작스런 스트레스 ...   \n",
              "..                                                 ...   \n",
              "900   ​질문내공50우울증이려나요?현재 중3 여학생입니다 요즘 울음을 많이 터트리는데 어...   \n",
              "901   우울증의 원인을 알고 그 원인 요소가 생활에 발생되지 않게 하면 우울증은 생길 수...   \n",
              "902   나 자신이 우울증인 것 같다 라는 생각만으로 우울증이라고 판단을 내릴 순 없어요실...   \n",
              "903   안녕하세요? 정신건강임상심리사1급/임상심리전문가 해말근이쓴입니다.​질문자님 마음의...   \n",
              "904   우리나라 퇴사의 권리는 본인에게 주어져있으므로 우울증 얘기는 안하셔도 됩니다.본인...   \n",
              "\n",
              "                                      processed_answer  \n",
              "0    우울증 테스트는 신뢰할만하지 않습니다. 중요한 것은 본인의 현재 우울한 상태입니다....  \n",
              "1    우울증 극복 방법은 다양하게 있지만, 우선적으로 우울에 대한 감정과 우울증에 대한 ...  \n",
              "2    우울증을 겪는 아이들을 치료하기 위해서는 안전하고 효과적인 방법을 사용해야 합니다....  \n",
              "3    청소년 우울증에 대한 해결책으로는 다음과 같은 접근 방법을 권장드립니다. 첫째로, ...  \n",
              "4    안녕하세요. 우선, 언급한 내용으로 보아 우울증에 의한 것일 수도 있고 급작스런 스...  \n",
              "..                                                 ...  \n",
              "900  우울증은 감정이 격해지는 것 외에도 다른 부분들은 평소와 같이 행동한다는 점을 강조...  \n",
              "901  우울증의 원인은 생활에서 발생하는 요소들입니다. 이러한 요소들을 제거하면 우울증을 ...  \n",
              "902  우선, 자기 자신이 우울증인지 아닌지 판단하는 것은 쉽지 않습니다. 그러므로, 현재...  \n",
              "903  우선, 안녕하세요. 저는 정신건강임상심리사1급/임상심리전문가 해말근이라고 합니다. ...  \n",
              "904  제가 이해합니다. 퇴사는 개인의 권리이며, 우울증에 대한 얘기를 하지 않아도 된다는...  \n",
              "\n",
              "[905 rows x 6 columns]"
            ]
          },
          "execution_count": 2,
          "metadata": {},
          "output_type": "execute_result"
        }
      ],
      "source": [
        "df = pd.read_csv('naver_kin_filtered_processed.csv')\n",
        "#df = pd.read_excel('total.xlsx', index_col = 0)\n",
        "df"
      ]
    },
    {
      "cell_type": "markdown",
      "id": "89e4a19d",
      "metadata": {
        "id": "89e4a19d"
      },
      "source": [
        "- 데이터 증강 후"
      ]
    },
    {
      "cell_type": "code",
      "execution_count": null,
      "id": "ff6bfd8c",
      "metadata": {
        "id": "ff6bfd8c",
        "outputId": "4684d7fe-020a-48af-b91e-59710b0b7196"
      },
      "outputs": [
        {
          "data": {
            "text/html": [
              "<div>\n",
              "<style scoped>\n",
              "    .dataframe tbody tr th:only-of-type {\n",
              "        vertical-align: middle;\n",
              "    }\n",
              "\n",
              "    .dataframe tbody tr th {\n",
              "        vertical-align: top;\n",
              "    }\n",
              "\n",
              "    .dataframe thead th {\n",
              "        text-align: right;\n",
              "    }\n",
              "</style>\n",
              "<table border=\"1\" class=\"dataframe\">\n",
              "  <thead>\n",
              "    <tr style=\"text-align: right;\">\n",
              "      <th></th>\n",
              "      <th>Q</th>\n",
              "      <th>A</th>\n",
              "      <th>label</th>\n",
              "    </tr>\n",
              "  </thead>\n",
              "  <tbody>\n",
              "    <tr>\n",
              "      <th>0</th>\n",
              "      <td>저는 예비 중1입니다. 일단 우울증인 것 같기는 한데 아직 잘 모르겠어서요. 우울증...</td>\n",
              "      <td>우울증 테스트는 신뢰할만하지 않습니다. 중요한 것은 본인의 현재 우울한 상태입니다....</td>\n",
              "      <td>original</td>\n",
              "    </tr>\n",
              "    <tr>\n",
              "      <th>1</th>\n",
              "      <td>청주 30대 후반/여 우울증우울증 극복 어떻하죠 남들하고 비교하다보니 자존감이 너무...</td>\n",
              "      <td>우울증 극복 방법은 다양하게 있지만, 우선적으로 우울에 대한 감정과 우울증에 대한 ...</td>\n",
              "      <td>original</td>\n",
              "    </tr>\n",
              "    <tr>\n",
              "      <th>2</th>\n",
              "      <td>잠실 10대 초반/여 우울증아이가 10살인데 우울증 증상을 보입니다.처음에는 의심되...</td>\n",
              "      <td>우울증을 겪는 아이들을 치료하기 위해서는 안전하고 효과적인 방법을 사용해야 합니다....</td>\n",
              "      <td>original</td>\n",
              "    </tr>\n",
              "    <tr>\n",
              "      <th>3</th>\n",
              "      <td>40대 중반/여청소년 우울증 상담 질문드리고 싶어요... 아이가 지금 청소년 우울증...</td>\n",
              "      <td>청소년 우울증에 대한 해결책으로는 다음과 같은 접근 방법을 권장드립니다. 첫째로, ...</td>\n",
              "      <td>original</td>\n",
              "    </tr>\n",
              "    <tr>\n",
              "      <th>4</th>\n",
              "      <td>초딩 졸업을 앞두고 있는 학생인데요가정사도 안 좋아지고 정말 사랑하는 남친이랑 싸우...</td>\n",
              "      <td>안녕하세요. 우선, 언급한 내용으로 보아 우울증에 의한 것일 수도 있고 급작스런 스...</td>\n",
              "      <td>original</td>\n",
              "    </tr>\n",
              "    <tr>\n",
              "      <th>...</th>\n",
              "      <td>...</td>\n",
              "      <td>...</td>\n",
              "      <td>...</td>\n",
              "    </tr>\n",
              "    <tr>\n",
              "      <th>2693</th>\n",
              "      <td>현재 중3 여학생입니다 요즘 울음을 많이 터트리는데 어제도 자신있던 과목에서 실수하...</td>\n",
              "      <td>우울증은 감정이 격해지는 것과 다른 부분들은 다 같이 행동한다는 점을 강조하셨습니다...</td>\n",
              "      <td>insert</td>\n",
              "    </tr>\n",
              "    <tr>\n",
              "      <th>2694</th>\n",
              "      <td>우울증 예방법 좀 알려주세요..그리고 그 예방법이 왜 예방법인지도 …</td>\n",
              "      <td>우울증의 원인은 생활에서 해로운 요소들입니다. 이러한 요소들을 제거하면서 줄일 수,...</td>\n",
              "      <td>insert</td>\n",
              "    </tr>\n",
              "    <tr>\n",
              "      <th>2695</th>\n",
              "      <td>나 자신이 우울증인 것 같다는 생각이 들면우울증인걸까요..?평소에 조울증처럼 기분도...</td>\n",
              "      <td>우선, 자기 자신이 스스로 판단하는 것은 하지만 그러므로, 현재 알고 있는 감정이 ...</td>\n",
              "      <td>insert</td>\n",
              "    </tr>\n",
              "    <tr>\n",
              "      <th>2696</th>\n",
              "      <td>어두워 지고 방에 혼자 있으면자꾸 우울해지곤 합니다 요새는 불안하고 심장이 잘못한 ...</td>\n",
              "      <td>우선, 안녕하세요. 저는 정신과 / 임상심리전문가 해말근이라고 알려진 질문자님의 마...</td>\n",
              "      <td>insert</td>\n",
              "    </tr>\n",
              "    <tr>\n",
              "      <th>2697</th>\n",
              "      <td>입사하고 약2년 정도 우울증 약 복용중입니다회사 스트레스/ 개인적인 일 등 여러가지...</td>\n",
              "      <td>제가 이해합니다. 퇴사는 개인의 권리이며, 이에 대한 얘기를 하지 않아도 된다는 점...</td>\n",
              "      <td>insert</td>\n",
              "    </tr>\n",
              "  </tbody>\n",
              "</table>\n",
              "<p>2698 rows × 3 columns</p>\n",
              "</div>"
            ],
            "text/plain": [
              "                                                      Q  \\\n",
              "0     저는 예비 중1입니다. 일단 우울증인 것 같기는 한데 아직 잘 모르겠어서요. 우울증...   \n",
              "1     청주 30대 후반/여 우울증우울증 극복 어떻하죠 남들하고 비교하다보니 자존감이 너무...   \n",
              "2     잠실 10대 초반/여 우울증아이가 10살인데 우울증 증상을 보입니다.처음에는 의심되...   \n",
              "3     40대 중반/여청소년 우울증 상담 질문드리고 싶어요... 아이가 지금 청소년 우울증...   \n",
              "4     초딩 졸업을 앞두고 있는 학생인데요가정사도 안 좋아지고 정말 사랑하는 남친이랑 싸우...   \n",
              "...                                                 ...   \n",
              "2693  현재 중3 여학생입니다 요즘 울음을 많이 터트리는데 어제도 자신있던 과목에서 실수하...   \n",
              "2694             우울증 예방법 좀 알려주세요..그리고 그 예방법이 왜 예방법인지도 …   \n",
              "2695  나 자신이 우울증인 것 같다는 생각이 들면우울증인걸까요..?평소에 조울증처럼 기분도...   \n",
              "2696  어두워 지고 방에 혼자 있으면자꾸 우울해지곤 합니다 요새는 불안하고 심장이 잘못한 ...   \n",
              "2697  입사하고 약2년 정도 우울증 약 복용중입니다회사 스트레스/ 개인적인 일 등 여러가지...   \n",
              "\n",
              "                                                      A     label  \n",
              "0     우울증 테스트는 신뢰할만하지 않습니다. 중요한 것은 본인의 현재 우울한 상태입니다....  original  \n",
              "1     우울증 극복 방법은 다양하게 있지만, 우선적으로 우울에 대한 감정과 우울증에 대한 ...  original  \n",
              "2     우울증을 겪는 아이들을 치료하기 위해서는 안전하고 효과적인 방법을 사용해야 합니다....  original  \n",
              "3     청소년 우울증에 대한 해결책으로는 다음과 같은 접근 방법을 권장드립니다. 첫째로, ...  original  \n",
              "4     안녕하세요. 우선, 언급한 내용으로 보아 우울증에 의한 것일 수도 있고 급작스런 스...  original  \n",
              "...                                                 ...       ...  \n",
              "2693  우울증은 감정이 격해지는 것과 다른 부분들은 다 같이 행동한다는 점을 강조하셨습니다...    insert  \n",
              "2694  우울증의 원인은 생활에서 해로운 요소들입니다. 이러한 요소들을 제거하면서 줄일 수,...    insert  \n",
              "2695  우선, 자기 자신이 스스로 판단하는 것은 하지만 그러므로, 현재 알고 있는 감정이 ...    insert  \n",
              "2696  우선, 안녕하세요. 저는 정신과 / 임상심리전문가 해말근이라고 알려진 질문자님의 마...    insert  \n",
              "2697  제가 이해합니다. 퇴사는 개인의 권리이며, 이에 대한 얘기를 하지 않아도 된다는 점...    insert  \n",
              "\n",
              "[2698 rows x 3 columns]"
            ]
          },
          "execution_count": 5,
          "metadata": {},
          "output_type": "execute_result"
        }
      ],
      "source": [
        "#df = pd.read_csv('naver_kin_filtered_processed.csv')\n",
        "df = pd.read_excel('total.xlsx', index_col = 0)\n",
        "df"
      ]
    },
    {
      "cell_type": "code",
      "execution_count": null,
      "id": "5e3427be",
      "metadata": {
        "id": "5e3427be",
        "outputId": "cb43ed84-4e11-4d0a-f8ae-225b163f047e"
      },
      "outputs": [
        {
          "name": "stderr",
          "output_type": "stream",
          "text": [
            "100%|██████████████████████████████████████████████████████████████████████████| 2698/2698 [00:00<00:00, 318104.01it/s]\n",
            "100%|███████████████████████████████████████████████████████████████████████████| 2698/2698 [00:00<00:00, 55426.08it/s]\n",
            "100%|██████████████████████████████████████████████████████████████████████████| 2698/2698 [00:00<00:00, 108208.54it/s]\n",
            "100%|██████████████████████████████████████████████████████████████████████████| 2698/2698 [00:00<00:00, 338323.13it/s]\n",
            "100%|███████████████████████████████████████████████████████████████████████████| 2698/2698 [00:00<00:00, 85831.12it/s]\n",
            "100%|███████████████████████████████████████████████████████████████████████████| 2698/2698 [00:00<00:00, 25843.58it/s]\n"
          ]
        },
        {
          "data": {
            "text/html": [
              "<div>\n",
              "<style scoped>\n",
              "    .dataframe tbody tr th:only-of-type {\n",
              "        vertical-align: middle;\n",
              "    }\n",
              "\n",
              "    .dataframe tbody tr th {\n",
              "        vertical-align: top;\n",
              "    }\n",
              "\n",
              "    .dataframe thead th {\n",
              "        text-align: right;\n",
              "    }\n",
              "</style>\n",
              "<table border=\"1\" class=\"dataframe\">\n",
              "  <thead>\n",
              "    <tr style=\"text-align: right;\">\n",
              "      <th></th>\n",
              "      <th>Q</th>\n",
              "      <th>A</th>\n",
              "      <th>label</th>\n",
              "    </tr>\n",
              "  </thead>\n",
              "  <tbody>\n",
              "    <tr>\n",
              "      <th>0</th>\n",
              "      <td>저는 예비 중1입니다. 일단 우울증인 것 같기는 한데 아직 잘 모르겠어서요. 우울증...</td>\n",
              "      <td>우울증 테스트는 신뢰할만하지 않습니다. 중요한 것은 본인의 현재 우울한 상태입니다....</td>\n",
              "      <td>original</td>\n",
              "    </tr>\n",
              "    <tr>\n",
              "      <th>1</th>\n",
              "      <td>청주 30대 후반/여 우울증우울증 극복 어떻하죠 남들하고 비교하다보니 자존감이 너무...</td>\n",
              "      <td>우울증 극복 방법은 다양하게 있지만, 우선적으로 우울에 대한 감정과 우울증에 대한 ...</td>\n",
              "      <td>original</td>\n",
              "    </tr>\n",
              "    <tr>\n",
              "      <th>2</th>\n",
              "      <td>잠실 10대 초반/여 우울증아이가 10살인데 우울증 증상을 보입니다.처음에는 의심되...</td>\n",
              "      <td>우울증을 겪는 아이들을 치료하기 위해서는 안전하고 효과적인 방법을 사용해야 합니다....</td>\n",
              "      <td>original</td>\n",
              "    </tr>\n",
              "    <tr>\n",
              "      <th>3</th>\n",
              "      <td>40대 중반/여청소년 우울증 상담 질문드리고 싶어요... 아이가 지금 청소년 우울증...</td>\n",
              "      <td>청소년 우울증에 대한 해결책으로는 다음과 같은 접근 방법을 권장드립니다. 첫째로, ...</td>\n",
              "      <td>original</td>\n",
              "    </tr>\n",
              "    <tr>\n",
              "      <th>4</th>\n",
              "      <td>초딩 졸업을 앞두고 있는 학생인데요가정사도 안 좋아지고 정말 사랑하는 남친이랑 싸우...</td>\n",
              "      <td>우선, 언급한 내용으로 보아 우울증에 의한 것일 수도 있고 급작스런 스트레스 상황으...</td>\n",
              "      <td>original</td>\n",
              "    </tr>\n",
              "    <tr>\n",
              "      <th>...</th>\n",
              "      <td>...</td>\n",
              "      <td>...</td>\n",
              "      <td>...</td>\n",
              "    </tr>\n",
              "    <tr>\n",
              "      <th>2445</th>\n",
              "      <td>현재 중3 여학생입니다 요즘 울음을 많이 터트리는데 어제도 자신있던 과목에서 실수하...</td>\n",
              "      <td>우울증은 감정이 격해지는 것과 다른 부분들은 다 같이 행동한다는 점을 강조하셨습니다...</td>\n",
              "      <td>insert</td>\n",
              "    </tr>\n",
              "    <tr>\n",
              "      <th>2446</th>\n",
              "      <td>우울증 예방법 좀 알려주세요..그리고 그 예방법이 왜 예방법인지도 …</td>\n",
              "      <td>우울증의 원인은 생활에서 해로운 요소들입니다. 이러한 요소들을 제거하면서 줄일 수,...</td>\n",
              "      <td>insert</td>\n",
              "    </tr>\n",
              "    <tr>\n",
              "      <th>2447</th>\n",
              "      <td>나 자신이 우울증인 것 같다는 생각이 들면우울증인걸까요..?평소에 조울증처럼 기분도...</td>\n",
              "      <td>우선, 자기 자신이 스스로 판단하는 것은 하지만 그러므로, 현재 알고 있는 감정이 ...</td>\n",
              "      <td>insert</td>\n",
              "    </tr>\n",
              "    <tr>\n",
              "      <th>2448</th>\n",
              "      <td>어두워 지고 방에 혼자 있으면자꾸 우울해지곤 합니다 요새는 불안하고 심장이 잘못한 ...</td>\n",
              "      <td>우선, 저는 정신과 / 임상심리전문가 해말근이라고 알려진 질문자님의 마음의 감기 다...</td>\n",
              "      <td>insert</td>\n",
              "    </tr>\n",
              "    <tr>\n",
              "      <th>2449</th>\n",
              "      <td>입사하고 약2년 정도 우울증 약 복용중입니다회사 스트레스/ 개인적인 일 등 여러가지...</td>\n",
              "      <td>제가 이해합니다. 퇴사는 개인의 권리이며, 이에 대한 얘기를 하지 않아도 된다는 점...</td>\n",
              "      <td>insert</td>\n",
              "    </tr>\n",
              "  </tbody>\n",
              "</table>\n",
              "<p>2450 rows × 3 columns</p>\n",
              "</div>"
            ],
            "text/plain": [
              "                                                      Q  \\\n",
              "0     저는 예비 중1입니다. 일단 우울증인 것 같기는 한데 아직 잘 모르겠어서요. 우울증...   \n",
              "1     청주 30대 후반/여 우울증우울증 극복 어떻하죠 남들하고 비교하다보니 자존감이 너무...   \n",
              "2     잠실 10대 초반/여 우울증아이가 10살인데 우울증 증상을 보입니다.처음에는 의심되...   \n",
              "3     40대 중반/여청소년 우울증 상담 질문드리고 싶어요... 아이가 지금 청소년 우울증...   \n",
              "4     초딩 졸업을 앞두고 있는 학생인데요가정사도 안 좋아지고 정말 사랑하는 남친이랑 싸우...   \n",
              "...                                                 ...   \n",
              "2445  현재 중3 여학생입니다 요즘 울음을 많이 터트리는데 어제도 자신있던 과목에서 실수하...   \n",
              "2446             우울증 예방법 좀 알려주세요..그리고 그 예방법이 왜 예방법인지도 …   \n",
              "2447  나 자신이 우울증인 것 같다는 생각이 들면우울증인걸까요..?평소에 조울증처럼 기분도...   \n",
              "2448  어두워 지고 방에 혼자 있으면자꾸 우울해지곤 합니다 요새는 불안하고 심장이 잘못한 ...   \n",
              "2449  입사하고 약2년 정도 우울증 약 복용중입니다회사 스트레스/ 개인적인 일 등 여러가지...   \n",
              "\n",
              "                                                      A     label  \n",
              "0     우울증 테스트는 신뢰할만하지 않습니다. 중요한 것은 본인의 현재 우울한 상태입니다....  original  \n",
              "1     우울증 극복 방법은 다양하게 있지만, 우선적으로 우울에 대한 감정과 우울증에 대한 ...  original  \n",
              "2     우울증을 겪는 아이들을 치료하기 위해서는 안전하고 효과적인 방법을 사용해야 합니다....  original  \n",
              "3     청소년 우울증에 대한 해결책으로는 다음과 같은 접근 방법을 권장드립니다. 첫째로, ...  original  \n",
              "4     우선, 언급한 내용으로 보아 우울증에 의한 것일 수도 있고 급작스런 스트레스 상황으...  original  \n",
              "...                                                 ...       ...  \n",
              "2445  우울증은 감정이 격해지는 것과 다른 부분들은 다 같이 행동한다는 점을 강조하셨습니다...    insert  \n",
              "2446  우울증의 원인은 생활에서 해로운 요소들입니다. 이러한 요소들을 제거하면서 줄일 수,...    insert  \n",
              "2447  우선, 자기 자신이 스스로 판단하는 것은 하지만 그러므로, 현재 알고 있는 감정이 ...    insert  \n",
              "2448  우선, 저는 정신과 / 임상심리전문가 해말근이라고 알려진 질문자님의 마음의 감기 다...    insert  \n",
              "2449  제가 이해합니다. 퇴사는 개인의 권리이며, 이에 대한 얘기를 하지 않아도 된다는 점...    insert  \n",
              "\n",
              "[2450 rows x 3 columns]"
            ]
          },
          "execution_count": 258,
          "metadata": {},
          "output_type": "execute_result"
        }
      ],
      "source": [
        "# 데이터 전처리 함수\n",
        "def update_question(row):\n",
        "    if row['question'] == '제목과 내용 동일':\n",
        "        return row['title']\n",
        "    else:\n",
        "        return row['question']\n",
        "\n",
        "def replace_text(text):\n",
        "    # 초성 줄임말을 단어로 반환\n",
        "    text = text.replace('ㅈㅅ', '자살')\n",
        "    text = text.replace('ㅈㅎ', '자해')\n",
        "    return text\n",
        "\n",
        "def remove_words_hello(text):\n",
        "    # 문장을 공백을 기준으로 단어로 분할\n",
        "    words = text.split()\n",
        "\n",
        "    # '안녕'을 포함하는 단어를 제거\n",
        "    filtered_words = [word for word in words if '안녕' not in word]\n",
        "\n",
        "    # 제거된 단어들을 다시 문자열로 결합\n",
        "    cleaned_text = ' '.join(filtered_words)\n",
        "    return cleaned_text\n",
        "\n",
        "def text_normalization(text):\n",
        "    # 정규표현식을 사용하여 괄호와 괄호 내의 내용을 삭제\n",
        "    cleaned_text = re.sub(r'\\([^)]*\\)', '', text)\n",
        "    # 자음, 모음으로만 이뤄진 글자 삭제\n",
        "    cleaned_text = re.sub(r'[ㄱ-ㅎㅏ-ㅣ]', '', cleaned_text)\n",
        "    return cleaned_text\n",
        "\n",
        "def ans_normalization(text):\n",
        "    # '\\n\\n'을 빈 문자열로 대체\n",
        "    return text.replace('\\n\\n', '').strip()\n",
        "\n",
        "# apply 함수를 사용하여 update_question 함수를 적용\n",
        "tqdm.pandas()\n",
        "\n",
        "# total_xlsx 사용할 때는 생략 가능\n",
        "# df.rename(columns={'question' : 'Q','processed_answer' : 'A'}, inplace=True)\n",
        "# df = df[['Q','A']]\n",
        "\n",
        "df['Q'] = df['Q'].progress_apply(replace_text)\n",
        "df['Q'] = df['Q'].progress_apply(remove_words_hello)\n",
        "df['Q'] = df['Q'].progress_apply(text_normalization)\n",
        "df['A'] = df['A'].progress_apply(ans_normalization)\n",
        "df['A'] = df['A'].progress_apply(text_normalization)\n",
        "df['A'] = df['A'].progress_apply(remove_words_hello)\n",
        "\n",
        "df = df[~df['A'].str.contains('채택')]\n",
        "df = df[~df['A'].str.contains('http')]\n",
        "df = df[~df['A'].str.contains('cyber1388')]\n",
        "df = df[~df['A'].str.contains('마음애')]\n",
        "df = df[~df['A'].str.contains('광주심리상담')]\n",
        "df.reset_index(drop=True, inplace=True)\n",
        "df"
      ]
    },
    {
      "cell_type": "code",
      "execution_count": null,
      "id": "c9b4512c",
      "metadata": {
        "id": "c9b4512c"
      },
      "outputs": [],
      "source": [
        "df.to_csv('final_df_naver_kin.csv', index=False)"
      ]
    },
    {
      "cell_type": "code",
      "execution_count": null,
      "id": "1eb978b6",
      "metadata": {
        "id": "1eb978b6"
      },
      "outputs": [],
      "source": [
        "df.to_csv('naver_kin_filtered_processed_v2.csv', index=False)"
      ]
    },
    {
      "cell_type": "markdown",
      "id": "e476cc99",
      "metadata": {
        "id": "e476cc99"
      },
      "source": [
        "## 데이터셋 답변에 대한 추가 전처리 진행\n",
        "- 채택해주세요 등의 문구가 포함된 광고성 답변 삭제\n",
        "- \\n\\n등의 개행문구 삭제\n",
        "- https://~ 등의 링크 제공하는 답변도 삭제\n",
        "- 1388 권유 삭제\n"
      ]
    },
    {
      "cell_type": "markdown",
      "id": "0e307a92",
      "metadata": {
        "id": "0e307a92"
      },
      "source": [
        "### final_df_piece.csv : 5170개 랜덤하게 추출하여 사용\n",
        "### final_df_total.csv : 29667 전체 사용"
      ]
    },
    {
      "cell_type": "code",
      "execution_count": null,
      "id": "4f5867d1",
      "metadata": {
        "id": "4f5867d1"
      },
      "outputs": [],
      "source": [
        "pc = pd.read_csv('final_df_piece.csv')\n",
        "tt = pd.read_csv('final_df_total.csv')"
      ]
    },
    {
      "cell_type": "code",
      "execution_count": null,
      "id": "d0f6f30d",
      "metadata": {
        "id": "d0f6f30d",
        "outputId": "0de22c12-76b1-4a71-ee4b-fdf58c1a021d"
      },
      "outputs": [
        {
          "data": {
            "text/plain": [
              "0        우울증 테스트는 신뢰할만하지 않습니다. 중요한 것은 본인의 현재 우울한 상태입니다....\n",
              "1        우울증 극복 방법은 다양하게 있지만, 우선적으로 우울에 대한 감정과 우울증에 대한 ...\n",
              "2        우울증을 겪는 아이들을 치료하기 위해서는 안전하고 효과적인 방법을 사용해야 합니다....\n",
              "3        청소년 우울증에 대한 해결책으로는 다음과 같은 접근 방법을 권장드립니다. 첫째로, ...\n",
              "4        우선, 언급한 내용으로 보아 우울증에 의한 것일 수도 있고 급작스런 스트레스 상황으...\n",
              "                               ...                        \n",
              "29662                                건강에 대한 걱정 때문에 속상하시군요.\n",
              "29663                   경제적인 문제 때문에 막막하시군요. 마음이 편치 않으시겠어요.\n",
              "29664                건강에 대한 어려움 때문에 기분이 좋지 않으시군요. 속상하시겠어요.\n",
              "29665                        노후 준비에 대한 어려움 때문에 걱정이 많으시겠어요.\n",
              "29666                                 가족과의 문제 때문에 속상하시겠어요.\n",
              "Name: A, Length: 29667, dtype: object"
            ]
          },
          "execution_count": 179,
          "metadata": {},
          "output_type": "execute_result"
        }
      ],
      "source": [
        "tt['A']"
      ]
    },
    {
      "cell_type": "code",
      "execution_count": null,
      "id": "a04cc1da",
      "metadata": {
        "id": "a04cc1da",
        "outputId": "4f7f6f8e-98b1-459f-a131-3b4ace5602f9"
      },
      "outputs": [
        {
          "data": {
            "text/plain": [
              "'안녕하세요! 식욕이 떨어지고 우울한 기분 줄이기 위해, 좋은 음식을 알고 계시다니 힘들어 보이시네요. 하지만 걱정하지 마세요, 우울증 완화에 도움을 줄 수, 몇 가지 음식을 소개해 드릴게요. 먼저 오메가 - 3 지방산 함유가 좋아요. 오메가 - 3는 뇌 기능을 촉진시켜 우울증 증상 완화에 도움 줄 수, 연어, 참치와 같은 물고기와 호두, 아몬드 같은 견과류를 섭취하시면 좋아요. 두번째로, 엽산이 들어간 음식 섭취해보세요. 엽산은 세로토닌이라는 신경 전달물질의 수치를 안정시켜 우울감을 줄일 수 있어요. 그리고 아스파라거스, 겉귀리와 같은 음식들이 엽산이 풍부한 음식이에요. 그리고 비타민 B6와 B12 함유 식품도 좋아요. 비타민 B6와 B12는 우울기분 개선에 도움 주는 중요한 영양소입니다. 가금류, 그리고 우유 및 유제품, 그리고 콩류와 같은 음식에 비타민 B6와 함께 많이 함유되어 있어요. 또한, 영양제를 고려하신다면 유어닥터 엘나스 닥터베스트와 같은 제품들은 전문가의 의견을 권유하고, 자세히 살펴볼 것이 좋아요. 음식이나, 개인의 알레르기 반응에 따라 다를 수 있으니 전문가의 조언을 받는 것이 가장 좋아요. 음식을 섭취할 때는 영양가를 높일 제한 사항이 있는지 알아보는 것도 중요해요. 또한 정기적인 운동, 정신과 이성 간의 대화 등 우울감을 완화시킬 수 있는 다양한 방법들도 함께 고려해보세요. 물론 전부일 수는 없지만 참고해주시길 바라며, 좋은 결과 얻을 수 있기를 바랍니다. 건강하게 지내세요!'"
            ]
          },
          "execution_count": 156,
          "metadata": {},
          "output_type": "execute_result"
        }
      ],
      "source": [
        "tt[tt['A'].str.contains('[a-zA-Z]')].iloc[102,1]"
      ]
    },
    {
      "cell_type": "code",
      "execution_count": null,
      "id": "c39415dd",
      "metadata": {
        "id": "c39415dd",
        "outputId": "42ae4cdf-09e4-44d9-d96a-68a34faa3299"
      },
      "outputs": [
        {
          "data": {
            "text/html": [
              "<div>\n",
              "<style scoped>\n",
              "    .dataframe tbody tr th:only-of-type {\n",
              "        vertical-align: middle;\n",
              "    }\n",
              "\n",
              "    .dataframe tbody tr th {\n",
              "        vertical-align: top;\n",
              "    }\n",
              "\n",
              "    .dataframe thead th {\n",
              "        text-align: right;\n",
              "    }\n",
              "</style>\n",
              "<table border=\"1\" class=\"dataframe\">\n",
              "  <thead>\n",
              "    <tr style=\"text-align: right;\">\n",
              "      <th></th>\n",
              "      <th>Q</th>\n",
              "      <th>A</th>\n",
              "    </tr>\n",
              "  </thead>\n",
              "  <tbody>\n",
              "    <tr>\n",
              "      <th>0</th>\n",
              "      <td>저는 예비 중1입니다. 일단 우울증인 것 같기는 한데 아직 잘 모르겠어서요. 우울증...</td>\n",
              "      <td>우울증 테스트는 신뢰할만하지 않습니다. 중요한 것은 본인의 현재 우울한 상태입니다....</td>\n",
              "    </tr>\n",
              "    <tr>\n",
              "      <th>5</th>\n",
              "      <td>요즘 힘든일이 많아서 떠돌아 다니는 우울증 테스트를 해봤는데 결과가 심각하더라고요 ...</td>\n",
              "      <td>우울증 자가테스트를 진단해보셨군요. 증상이 심각하다면 꼭 주변 사람들에게 알리고 도...</td>\n",
              "    </tr>\n",
              "    <tr>\n",
              "      <th>9</th>\n",
              "      <td>기존에 우울증약을 밤에 먹고 adhd약을 아침에 먹고 있는 중인데 우울증약을 밤에 ...</td>\n",
              "      <td>안녕하세요. 정신건강의학과 전문의 이준협입니다. 우울증 약과 ADHD 약을 복용 중...</td>\n",
              "    </tr>\n",
              "    <tr>\n",
              "      <th>11</th>\n",
              "      <td>요즘 제가 좀 많이 무기력해지고 잠을 잘 못자고 밥을 잘 안 먹고 주변에서 평소와 ...</td>\n",
              "      <td>비공개님, 우울감과 우울증은 다른 것을 알려드립니다. 주신 증상들은 우울감일 가능성...</td>\n",
              "    </tr>\n",
              "    <tr>\n",
              "      <th>20</th>\n",
              "      <td>제가 고2이고 현재 우울증이 있는 상태입니다 그냥 우울하고 학교가면 아무 재미가 없...</td>\n",
              "      <td>우선, 우울증 진단을 받았다면 진단서를 제출하는 것이 좋습니다. 진단서는 의사의 의...</td>\n",
              "    </tr>\n",
              "    <tr>\n",
              "      <th>...</th>\n",
              "      <td>...</td>\n",
              "      <td>...</td>\n",
              "    </tr>\n",
              "    <tr>\n",
              "      <th>29532</th>\n",
              "      <td>친구랑 놀다 들어왔는데 엄마가 지나치게 간섭해서 마치 내가 뭘 잘못한 기분이 들어.</td>\n",
              "      <td>부모님의 지나친 간섭으로 자책감이 드시는군요.</td>\n",
              "    </tr>\n",
              "    <tr>\n",
              "      <th>29554</th>\n",
              "      <td>내가 게임 중독이라 학업을 소홀히 한다고 생각하는 부모님 때문에 실패한 느낌이 들어.</td>\n",
              "      <td>부모님 때문에 실패한 느낌이 드는군요.</td>\n",
              "    </tr>\n",
              "    <tr>\n",
              "      <th>29595</th>\n",
              "      <td>부모님이 같이 살자고 하신 걸 거절했는데 죄책감이 들어.</td>\n",
              "      <td>부모님께서 하신 말씀을 거절하신 것 때문에 죄책감이 드시나 봐요.</td>\n",
              "    </tr>\n",
              "    <tr>\n",
              "      <th>29608</th>\n",
              "      <td>부모님이 공부할 시간에 연애한다고 혼을 내셔서 우울해. 내가 그렇게 큰 잘못을 한 걸까?</td>\n",
              "      <td>이성 친구 문제로 부모님과 갈등을 빚어서 속상하셨겠어요.</td>\n",
              "    </tr>\n",
              "    <tr>\n",
              "      <th>29609</th>\n",
              "      <td>부모님이 나한테 너무 무관심해서 짜증이 나. 다른 부모님들은 안 그러시는데 말이야.</td>\n",
              "      <td>무관심한 부모님에게 화가 나셨군요. 많이 힘드시겠어요.</td>\n",
              "    </tr>\n",
              "  </tbody>\n",
              "</table>\n",
              "<p>2420 rows × 2 columns</p>\n",
              "</div>"
            ],
            "text/plain": [
              "                                                       Q  \\\n",
              "0      저는 예비 중1입니다. 일단 우울증인 것 같기는 한데 아직 잘 모르겠어서요. 우울증...   \n",
              "5      요즘 힘든일이 많아서 떠돌아 다니는 우울증 테스트를 해봤는데 결과가 심각하더라고요 ...   \n",
              "9      기존에 우울증약을 밤에 먹고 adhd약을 아침에 먹고 있는 중인데 우울증약을 밤에 ...   \n",
              "11     요즘 제가 좀 많이 무기력해지고 잠을 잘 못자고 밥을 잘 안 먹고 주변에서 평소와 ...   \n",
              "20     제가 고2이고 현재 우울증이 있는 상태입니다 그냥 우울하고 학교가면 아무 재미가 없...   \n",
              "...                                                  ...   \n",
              "29532     친구랑 놀다 들어왔는데 엄마가 지나치게 간섭해서 마치 내가 뭘 잘못한 기분이 들어.   \n",
              "29554    내가 게임 중독이라 학업을 소홀히 한다고 생각하는 부모님 때문에 실패한 느낌이 들어.   \n",
              "29595                    부모님이 같이 살자고 하신 걸 거절했는데 죄책감이 들어.   \n",
              "29608  부모님이 공부할 시간에 연애한다고 혼을 내셔서 우울해. 내가 그렇게 큰 잘못을 한 걸까?   \n",
              "29609     부모님이 나한테 너무 무관심해서 짜증이 나. 다른 부모님들은 안 그러시는데 말이야.   \n",
              "\n",
              "                                                       A  \n",
              "0      우울증 테스트는 신뢰할만하지 않습니다. 중요한 것은 본인의 현재 우울한 상태입니다....  \n",
              "5      우울증 자가테스트를 진단해보셨군요. 증상이 심각하다면 꼭 주변 사람들에게 알리고 도...  \n",
              "9      안녕하세요. 정신건강의학과 전문의 이준협입니다. 우울증 약과 ADHD 약을 복용 중...  \n",
              "11     비공개님, 우울감과 우울증은 다른 것을 알려드립니다. 주신 증상들은 우울감일 가능성...  \n",
              "20     우선, 우울증 진단을 받았다면 진단서를 제출하는 것이 좋습니다. 진단서는 의사의 의...  \n",
              "...                                                  ...  \n",
              "29532                          부모님의 지나친 간섭으로 자책감이 드시는군요.  \n",
              "29554                              부모님 때문에 실패한 느낌이 드는군요.  \n",
              "29595               부모님께서 하신 말씀을 거절하신 것 때문에 죄책감이 드시나 봐요.  \n",
              "29608                    이성 친구 문제로 부모님과 갈등을 빚어서 속상하셨겠어요.  \n",
              "29609                     무관심한 부모님에게 화가 나셨군요. 많이 힘드시겠어요.  \n",
              "\n",
              "[2420 rows x 2 columns]"
            ]
          },
          "execution_count": 149,
          "metadata": {},
          "output_type": "execute_result"
        }
      ],
      "source": [
        "tt[tt['A'].str.contains('님')]"
      ]
    },
    {
      "cell_type": "code",
      "execution_count": null,
      "id": "9bf28faf",
      "metadata": {
        "id": "9bf28faf",
        "outputId": "6b095659-f78d-4661-e9bc-3f4aa1cf8409"
      },
      "outputs": [
        {
          "data": {
            "text/html": [
              "<div>\n",
              "<style scoped>\n",
              "    .dataframe tbody tr th:only-of-type {\n",
              "        vertical-align: middle;\n",
              "    }\n",
              "\n",
              "    .dataframe tbody tr th {\n",
              "        vertical-align: top;\n",
              "    }\n",
              "\n",
              "    .dataframe thead th {\n",
              "        text-align: right;\n",
              "    }\n",
              "</style>\n",
              "<table border=\"1\" class=\"dataframe\">\n",
              "  <thead>\n",
              "    <tr style=\"text-align: right;\">\n",
              "      <th></th>\n",
              "      <th>Q</th>\n",
              "      <th>A</th>\n",
              "    </tr>\n",
              "  </thead>\n",
              "  <tbody>\n",
              "    <tr>\n",
              "      <th>0</th>\n",
              "      <td>저는 예비 중1입니다. 일단 우울증인 것 같기는 한데 아직 잘 모르겠어서요. 우울증...</td>\n",
              "      <td>우울증 테스트는 신뢰할만하지 않습니다. 중요한 것은 본인의 현재 우울한 상태입니다....</td>\n",
              "    </tr>\n",
              "    <tr>\n",
              "      <th>1</th>\n",
              "      <td>청주 30대 후반/여 우울증우울증 극복 어떻하죠 남들하고 비교하다보니 자존감이 너무...</td>\n",
              "      <td>우울증 극복 방법은 다양하게 있지만, 우선적으로 우울에 대한 감정과 우울증에 대한 ...</td>\n",
              "    </tr>\n",
              "    <tr>\n",
              "      <th>2</th>\n",
              "      <td>잠실 10대 초반/여 우울증아이가 10살인데 우울증 증상을 보입니다.처음에는 의심되...</td>\n",
              "      <td>우울증을 겪는 아이들을 치료하기 위해서는 안전하고 효과적인 방법을 사용해야 합니다....</td>\n",
              "    </tr>\n",
              "    <tr>\n",
              "      <th>3</th>\n",
              "      <td>40대 중반/여청소년 우울증 상담 질문드리고 싶어요... 아이가 지금 청소년 우울증...</td>\n",
              "      <td>청소년 우울증에 대한 해결책으로는 다음과 같은 접근 방법을 권장드립니다. 첫째로, ...</td>\n",
              "    </tr>\n",
              "    <tr>\n",
              "      <th>4</th>\n",
              "      <td>초딩 졸업을 앞두고 있는 학생인데요가정사도 안 좋아지고 정말 사랑하는 남친이랑 싸우...</td>\n",
              "      <td>안녕하세요. 우선, 언급한 내용으로 보아 우울증에 의한 것일 수도 있고 급작스런 스...</td>\n",
              "    </tr>\n",
              "    <tr>\n",
              "      <th>...</th>\n",
              "      <td>...</td>\n",
              "      <td>...</td>\n",
              "    </tr>\n",
              "    <tr>\n",
              "      <th>27190</th>\n",
              "      <td>이제 몸이 점점 약해진다는 게 느껴져. 아내에게 미안하고 속상한 마음이 들어.</td>\n",
              "      <td>건강에 대한 걱정 때문에 속상하시군요.</td>\n",
              "    </tr>\n",
              "    <tr>\n",
              "      <th>27191</th>\n",
              "      <td>나이가 먹고 이제 돈도 못 벌어 오니까 어떻게 살아가야 할지 막막해. 능력도 없고.</td>\n",
              "      <td>경제적인 문제 때문에 막막하시군요. 마음이 편치 않으시겠어요.</td>\n",
              "    </tr>\n",
              "    <tr>\n",
              "      <th>27192</th>\n",
              "      <td>몸이 많이 약해졌나 봐. 이제 전과 같이 일하지 못할 것 같아 너무 짜증 나.</td>\n",
              "      <td>건강에 대한 어려움 때문에 기분이 좋지 않으시군요. 속상하시겠어요.</td>\n",
              "    </tr>\n",
              "    <tr>\n",
              "      <th>27193</th>\n",
              "      <td>이제 어떻게 해야 할지 모르겠어. 남편도 그렇고 노후 준비도 안 되어서 미래가 걱정돼.</td>\n",
              "      <td>노후 준비에 대한 어려움 때문에 걱정이 많으시겠어요.</td>\n",
              "    </tr>\n",
              "    <tr>\n",
              "      <th>27194</th>\n",
              "      <td>몇십 년을 함께 살았던 남편과 이혼했어. 그동안의 세월에 배신감을 느끼고 너무 화가 나.</td>\n",
              "      <td>가족과의 문제 때문에 속상하시겠어요.</td>\n",
              "    </tr>\n",
              "  </tbody>\n",
              "</table>\n",
              "<p>29893 rows × 2 columns</p>\n",
              "</div>"
            ],
            "text/plain": [
              "                                                       Q  \\\n",
              "0      저는 예비 중1입니다. 일단 우울증인 것 같기는 한데 아직 잘 모르겠어서요. 우울증...   \n",
              "1      청주 30대 후반/여 우울증우울증 극복 어떻하죠 남들하고 비교하다보니 자존감이 너무...   \n",
              "2      잠실 10대 초반/여 우울증아이가 10살인데 우울증 증상을 보입니다.처음에는 의심되...   \n",
              "3      40대 중반/여청소년 우울증 상담 질문드리고 싶어요... 아이가 지금 청소년 우울증...   \n",
              "4      초딩 졸업을 앞두고 있는 학생인데요가정사도 안 좋아지고 정말 사랑하는 남친이랑 싸우...   \n",
              "...                                                  ...   \n",
              "27190        이제 몸이 점점 약해진다는 게 느껴져. 아내에게 미안하고 속상한 마음이 들어.   \n",
              "27191     나이가 먹고 이제 돈도 못 벌어 오니까 어떻게 살아가야 할지 막막해. 능력도 없고.   \n",
              "27192        몸이 많이 약해졌나 봐. 이제 전과 같이 일하지 못할 것 같아 너무 짜증 나.   \n",
              "27193   이제 어떻게 해야 할지 모르겠어. 남편도 그렇고 노후 준비도 안 되어서 미래가 걱정돼.   \n",
              "27194  몇십 년을 함께 살았던 남편과 이혼했어. 그동안의 세월에 배신감을 느끼고 너무 화가 나.   \n",
              "\n",
              "                                                       A  \n",
              "0      우울증 테스트는 신뢰할만하지 않습니다. 중요한 것은 본인의 현재 우울한 상태입니다....  \n",
              "1      우울증 극복 방법은 다양하게 있지만, 우선적으로 우울에 대한 감정과 우울증에 대한 ...  \n",
              "2      우울증을 겪는 아이들을 치료하기 위해서는 안전하고 효과적인 방법을 사용해야 합니다....  \n",
              "3      청소년 우울증에 대한 해결책으로는 다음과 같은 접근 방법을 권장드립니다. 첫째로, ...  \n",
              "4      안녕하세요. 우선, 언급한 내용으로 보아 우울증에 의한 것일 수도 있고 급작스런 스...  \n",
              "...                                                  ...  \n",
              "27190                              건강에 대한 걱정 때문에 속상하시군요.  \n",
              "27191                 경제적인 문제 때문에 막막하시군요. 마음이 편치 않으시겠어요.  \n",
              "27192              건강에 대한 어려움 때문에 기분이 좋지 않으시군요. 속상하시겠어요.  \n",
              "27193                      노후 준비에 대한 어려움 때문에 걱정이 많으시겠어요.  \n",
              "27194                               가족과의 문제 때문에 속상하시겠어요.  \n",
              "\n",
              "[29893 rows x 2 columns]"
            ]
          },
          "execution_count": 82,
          "metadata": {},
          "output_type": "execute_result"
        }
      ],
      "source": [
        "tt"
      ]
    },
    {
      "cell_type": "code",
      "execution_count": null,
      "id": "b0b49f4f",
      "metadata": {
        "scrolled": true,
        "id": "b0b49f4f"
      },
      "outputs": [],
      "source": [
        "def remove_words_hello(text):\n",
        "    # 문장을 공백을 기준으로 단어로 분할\n",
        "    words = text.split()\n",
        "\n",
        "    # '안녕'을 포함하는 단어를 제거\n",
        "    filtered_words = [word for word in words if '안녕' not in word]\n",
        "\n",
        "    # 제거된 단어들을 다시 문자열로 결합\n",
        "    cleaned_text = ' '.join(filtered_words)\n",
        "    return cleaned_text\n",
        "\n",
        "def ans_normalization(text):\n",
        "    # '\\n\\n'을 빈 문자열로 대체\n",
        "    return text.replace('\\n\\n', '').strip()\n",
        "\n",
        "tt['A'] = tt['A'].apply(ans_normalization)\n",
        "tt['A'] = tt['A'].apply(remove_words_hello)\n",
        "tt = tt[~tt['A'].str.contains('채택')]\n",
        "tt = tt[~tt['A'].str.contains('http')]\n",
        "tt = tt[~tt['A'].str.contains('cyber1388')]\n",
        "tt.reset_index(drop=True, inplace=True)\n",
        "\n",
        "pc['A'] = pc['A'].apply(ans_normalization)\n",
        "pc['A'] = pc['A'].apply(remove_words_hello)\n",
        "pc = pc[~pc['A'].str.contains('채택')]\n",
        "pc = pc[~pc['A'].str.contains('http')]\n",
        "pc = pc[~pc['A'].str.contains('cyber1388')]\n",
        "pc.reset_index(drop=True, inplace=True)"
      ]
    },
    {
      "cell_type": "code",
      "execution_count": null,
      "id": "3cd1ff04",
      "metadata": {
        "id": "3cd1ff04"
      },
      "outputs": [],
      "source": [
        "pc.to_csv('final_df_piece.csv', index = False)\n",
        "tt.to_csv('final_df_total.csv', index = False)"
      ]
    }
  ],
  "metadata": {
    "kernelspec": {
      "display_name": "Python 3 (ipykernel)",
      "language": "python",
      "name": "python3"
    },
    "language_info": {
      "codemirror_mode": {
        "name": "ipython",
        "version": 3
      },
      "file_extension": ".py",
      "mimetype": "text/x-python",
      "name": "python",
      "nbconvert_exporter": "python",
      "pygments_lexer": "ipython3",
      "version": "3.9.13"
    },
    "colab": {
      "provenance": []
    }
  },
  "nbformat": 4,
  "nbformat_minor": 5
}